{
  "nbformat": 4,
  "nbformat_minor": 0,
  "metadata": {
    "colab": {
      "name": "Amazon_hackerEarth.ipynb",
      "provenance": [],
      "collapsed_sections": [],
      "authorship_tag": "ABX9TyPoUk6gm53MXZVzXiot2tbb",
      "include_colab_link": true
    },
    "kernelspec": {
      "name": "python3",
      "display_name": "Python 3"
    },
    "language_info": {
      "name": "python"
    }
  },
  "cells": [
    {
      "cell_type": "markdown",
      "metadata": {
        "id": "view-in-github",
        "colab_type": "text"
      },
      "source": [
        "<a href=\"https://colab.research.google.com/github/vasist1987/HackerRank_Python/blob/master/Amazon_hackerEarth.ipynb\" target=\"_parent\"><img src=\"https://colab.research.google.com/assets/colab-badge.svg\" alt=\"Open In Colab\"/></a>"
      ]
    },
    {
      "cell_type": "markdown",
      "metadata": {
        "id": "S-_Sm-5DyfXl"
      },
      "source": [
        "# Amazon business analyst challenge"
      ]
    },
    {
      "cell_type": "markdown",
      "metadata": {
        "id": "01JNSjT4yuvv"
      },
      "source": [
        "## importing necessary libraries"
      ]
    },
    {
      "cell_type": "code",
      "metadata": {
        "colab": {
          "base_uri": "https://localhost:8080/"
        },
        "id": "Mqr4qfMelLeD",
        "outputId": "678c651c-ef6e-4ff7-c3af-e55b59ac17ec"
      },
      "source": [
        "import pandas as pd\n",
        "import numpy as np\n",
        "pd.set_option('display.max_rows', 500)\n",
        "pd.set_option('display.max_columns', 500)\n",
        "pd.set_option('display.width', 1000)\n",
        "import lightgbm as lgb\n",
        "from lightgbm import LGBMClassifier\n",
        "from sklearn.model_selection import train_test_split\n",
        "from sklearn.preprocessing import MinMaxScaler\n",
        "from sklearn.linear_model import LogisticRegression\n",
        "from sklearn.tree import DecisionTreeClassifier\n",
        "from sklearn.naive_bayes import GaussianNB\n",
        "import sklearn.metrics\n",
        "!pip install --quiet optuna\n",
        "import optuna\n",
        "import os\n",
        "from sklearn.preprocessing import LabelEncoder\n",
        "import matplotlib.pyplot as plt\n",
        "import seaborn as sns\n",
        "from imblearn.over_sampling import SMOTE\n",
        "from imblearn.under_sampling import RandomUnderSampler\n",
        "!pip install treeinterpreter\n",
        "from sklearn.preprocessing import StandardScaler\n",
        "!pip install lime\n",
        "import lime\n",
        "import lime.lime_tabular"
      ],
      "execution_count": 1,
      "outputs": [
        {
          "output_type": "stream",
          "text": [
            "/usr/local/lib/python3.7/dist-packages/sklearn/externals/six.py:31: FutureWarning:\n",
            "\n",
            "The module is deprecated in version 0.21 and will be removed in version 0.23 since we've dropped support for Python 2.7. Please rely on the official version of six (https://pypi.org/project/six/).\n",
            "\n",
            "/usr/local/lib/python3.7/dist-packages/sklearn/utils/deprecation.py:144: FutureWarning:\n",
            "\n",
            "The sklearn.neighbors.base module is  deprecated in version 0.22 and will be removed in version 0.24. The corresponding classes / functions should instead be imported from sklearn.neighbors. Anything that cannot be imported from sklearn.neighbors is now part of the private API.\n",
            "\n"
          ],
          "name": "stderr"
        },
        {
          "output_type": "stream",
          "text": [
            "Requirement already satisfied: treeinterpreter in /usr/local/lib/python3.7/dist-packages (0.2.3)\n",
            "Requirement already satisfied: lime in /usr/local/lib/python3.7/dist-packages (0.2.0.1)\n",
            "Requirement already satisfied: numpy in /usr/local/lib/python3.7/dist-packages (from lime) (1.19.5)\n",
            "Requirement already satisfied: scipy in /usr/local/lib/python3.7/dist-packages (from lime) (1.4.1)\n",
            "Requirement already satisfied: tqdm in /usr/local/lib/python3.7/dist-packages (from lime) (4.41.1)\n",
            "Requirement already satisfied: scikit-image>=0.12 in /usr/local/lib/python3.7/dist-packages (from lime) (0.16.2)\n",
            "Requirement already satisfied: scikit-learn>=0.18 in /usr/local/lib/python3.7/dist-packages (from lime) (0.22.2.post1)\n",
            "Requirement already satisfied: matplotlib in /usr/local/lib/python3.7/dist-packages (from lime) (3.2.2)\n",
            "Requirement already satisfied: networkx>=2.0 in /usr/local/lib/python3.7/dist-packages (from scikit-image>=0.12->lime) (2.5.1)\n",
            "Requirement already satisfied: pillow>=4.3.0 in /usr/local/lib/python3.7/dist-packages (from scikit-image>=0.12->lime) (7.1.2)\n",
            "Requirement already satisfied: PyWavelets>=0.4.0 in /usr/local/lib/python3.7/dist-packages (from scikit-image>=0.12->lime) (1.1.1)\n",
            "Requirement already satisfied: imageio>=2.3.0 in /usr/local/lib/python3.7/dist-packages (from scikit-image>=0.12->lime) (2.4.1)\n",
            "Requirement already satisfied: joblib>=0.11 in /usr/local/lib/python3.7/dist-packages (from scikit-learn>=0.18->lime) (1.0.1)\n",
            "Requirement already satisfied: kiwisolver>=1.0.1 in /usr/local/lib/python3.7/dist-packages (from matplotlib->lime) (1.3.1)\n",
            "Requirement already satisfied: cycler>=0.10 in /usr/local/lib/python3.7/dist-packages (from matplotlib->lime) (0.10.0)\n",
            "Requirement already satisfied: python-dateutil>=2.1 in /usr/local/lib/python3.7/dist-packages (from matplotlib->lime) (2.8.1)\n",
            "Requirement already satisfied: pyparsing!=2.0.4,!=2.1.2,!=2.1.6,>=2.0.1 in /usr/local/lib/python3.7/dist-packages (from matplotlib->lime) (2.4.7)\n",
            "Requirement already satisfied: decorator<5,>=4.3 in /usr/local/lib/python3.7/dist-packages (from networkx>=2.0->scikit-image>=0.12->lime) (4.4.2)\n",
            "Requirement already satisfied: six in /usr/local/lib/python3.7/dist-packages (from cycler>=0.10->matplotlib->lime) (1.15.0)\n"
          ],
          "name": "stdout"
        }
      ]
    },
    {
      "cell_type": "markdown",
      "metadata": {
        "id": "ezFcTlAeyzJo"
      },
      "source": [
        "### method to input data set"
      ]
    },
    {
      "cell_type": "code",
      "metadata": {
        "id": "BJgtNz2wn9CC"
      },
      "source": [
        "class dataImports():\n",
        "    \n",
        "    def __init__(self, df=None):\n",
        "        self.df = df\n",
        "        \n",
        "    def openZipFileCsv(self,zipPath,fileName):\n",
        "        zp=zipfile.ZipFile(zipPath,'r')\n",
        "        self.df= pd.read_csv(zp.open(fileName))\n",
        "        return self\n",
        "        \n",
        "    def import_Data_File(self,objectName,src_type,sheet=None):   \n",
        "        if src_type=='csv':\n",
        "            self.df=pd.read_csv(objectName)       \n",
        "        if src_type=='excel':\n",
        "            self.df=pd.read_excel(objectName, sheet_name = None)\n",
        "        return self\n",
        "    def import_Data_Database(self,src_type,tbname,server_name,db_name,uname,pwd):\n",
        "        if src_type=='mssql':\n",
        "            con=getConnectionMSSQL(server_name,db_name,uname,pwd)\n",
        "            self.df=selectFromDb(tbname,server_name,db_name,uname,pwd,con)\n",
        "        return self\n",
        "        "
      ],
      "execution_count": 2,
      "outputs": []
    },
    {
      "cell_type": "code",
      "metadata": {
        "id": "mhSWLbZyoDWm"
      },
      "source": [
        "train=(dataImports().import_Data_File('/content/Train.csv','csv')).df\n",
        "test=(dataImports().import_Data_File('/content/Test.csv','csv')).df\n",
        "sample_submission=(dataImports().import_Data_File('/content/sample submission.csv','csv')).df"
      ],
      "execution_count": 3,
      "outputs": []
    },
    {
      "cell_type": "markdown",
      "metadata": {
        "id": "ZmPVe7lcy6_U"
      },
      "source": [
        "### initial data analysis"
      ]
    },
    {
      "cell_type": "code",
      "metadata": {
        "colab": {
          "base_uri": "https://localhost:8080/",
          "height": 295
        },
        "id": "RHHQQd7boNn6",
        "outputId": "9ba60874-17e8-4df2-d7d2-8cdec1555d86"
      },
      "source": [
        "train.head()"
      ],
      "execution_count": 4,
      "outputs": [
        {
          "output_type": "execute_result",
          "data": {
            "text/html": [
              "<div>\n",
              "<style scoped>\n",
              "    .dataframe tbody tr th:only-of-type {\n",
              "        vertical-align: middle;\n",
              "    }\n",
              "\n",
              "    .dataframe tbody tr th {\n",
              "        vertical-align: top;\n",
              "    }\n",
              "\n",
              "    .dataframe thead th {\n",
              "        text-align: right;\n",
              "    }\n",
              "</style>\n",
              "<table border=\"1\" class=\"dataframe\">\n",
              "  <thead>\n",
              "    <tr style=\"text-align: right;\">\n",
              "      <th></th>\n",
              "      <th>EmpID</th>\n",
              "      <th>EmpName</th>\n",
              "      <th>LanguageOfCommunication</th>\n",
              "      <th>Age</th>\n",
              "      <th>Gender</th>\n",
              "      <th>JobProfileIDApplyingFor</th>\n",
              "      <th>HighestDegree</th>\n",
              "      <th>DegreeBranch</th>\n",
              "      <th>GraduatingInstitute</th>\n",
              "      <th>LatestDegreeCGPA</th>\n",
              "      <th>YearsOfExperince</th>\n",
              "      <th>GraduationYear</th>\n",
              "      <th>CurrentCTC</th>\n",
              "      <th>ExpectedCTC</th>\n",
              "      <th>MartialStatus</th>\n",
              "      <th>EmpScore</th>\n",
              "      <th>CurrentDesignation</th>\n",
              "      <th>CurrentCompanyType</th>\n",
              "      <th>DepartmentInCompany</th>\n",
              "      <th>TotalLeavesTaken</th>\n",
              "      <th>BiasInfluentialFactor</th>\n",
              "      <th>FitmentPercent</th>\n",
              "    </tr>\n",
              "  </thead>\n",
              "  <tbody>\n",
              "    <tr>\n",
              "      <th>0</th>\n",
              "      <td>11041</td>\n",
              "      <td>John</td>\n",
              "      <td>English</td>\n",
              "      <td>35</td>\n",
              "      <td>Male</td>\n",
              "      <td>JR85289</td>\n",
              "      <td>B.Tech</td>\n",
              "      <td>Electrical</td>\n",
              "      <td>Tier 1</td>\n",
              "      <td>7</td>\n",
              "      <td>12</td>\n",
              "      <td>2009</td>\n",
              "      <td>21</td>\n",
              "      <td>26</td>\n",
              "      <td>Married</td>\n",
              "      <td>5</td>\n",
              "      <td>SSE</td>\n",
              "      <td>Enterprise</td>\n",
              "      <td>Design</td>\n",
              "      <td>20</td>\n",
              "      <td>YearsOfExperince</td>\n",
              "      <td>95.40</td>\n",
              "    </tr>\n",
              "    <tr>\n",
              "      <th>1</th>\n",
              "      <td>15079</td>\n",
              "      <td>William</td>\n",
              "      <td>English</td>\n",
              "      <td>26</td>\n",
              "      <td>Male</td>\n",
              "      <td>JR87525</td>\n",
              "      <td>B.Tech</td>\n",
              "      <td>Artificial Intelligence</td>\n",
              "      <td>Tier 3</td>\n",
              "      <td>7</td>\n",
              "      <td>3</td>\n",
              "      <td>2018</td>\n",
              "      <td>15</td>\n",
              "      <td>19</td>\n",
              "      <td>Married</td>\n",
              "      <td>5</td>\n",
              "      <td>BA</td>\n",
              "      <td>MidSized</td>\n",
              "      <td>Engineering</td>\n",
              "      <td>6</td>\n",
              "      <td>NaN</td>\n",
              "      <td>67.09</td>\n",
              "    </tr>\n",
              "    <tr>\n",
              "      <th>2</th>\n",
              "      <td>18638</td>\n",
              "      <td>James</td>\n",
              "      <td>English</td>\n",
              "      <td>36</td>\n",
              "      <td>Female</td>\n",
              "      <td>JR87525</td>\n",
              "      <td>PhD</td>\n",
              "      <td>Computer Science</td>\n",
              "      <td>Tier 1</td>\n",
              "      <td>6</td>\n",
              "      <td>6</td>\n",
              "      <td>2015</td>\n",
              "      <td>15</td>\n",
              "      <td>24</td>\n",
              "      <td>Single</td>\n",
              "      <td>5</td>\n",
              "      <td>SDE</td>\n",
              "      <td>MidSized</td>\n",
              "      <td>Engineering</td>\n",
              "      <td>19</td>\n",
              "      <td>Gender</td>\n",
              "      <td>91.26</td>\n",
              "    </tr>\n",
              "    <tr>\n",
              "      <th>3</th>\n",
              "      <td>3941</td>\n",
              "      <td>Charles</td>\n",
              "      <td>English</td>\n",
              "      <td>29</td>\n",
              "      <td>Female</td>\n",
              "      <td>JR87525</td>\n",
              "      <td>BCA</td>\n",
              "      <td>Information Technology</td>\n",
              "      <td>Tier 2</td>\n",
              "      <td>5</td>\n",
              "      <td>6</td>\n",
              "      <td>2015</td>\n",
              "      <td>16</td>\n",
              "      <td>24</td>\n",
              "      <td>Married</td>\n",
              "      <td>5</td>\n",
              "      <td>SDE</td>\n",
              "      <td>Startup</td>\n",
              "      <td>Product</td>\n",
              "      <td>16</td>\n",
              "      <td>Gender</td>\n",
              "      <td>72.29</td>\n",
              "    </tr>\n",
              "    <tr>\n",
              "      <th>4</th>\n",
              "      <td>5936</td>\n",
              "      <td>George</td>\n",
              "      <td>English</td>\n",
              "      <td>25</td>\n",
              "      <td>Male</td>\n",
              "      <td>JR70175</td>\n",
              "      <td>Dual M.Tech</td>\n",
              "      <td>Computer Science</td>\n",
              "      <td>Tier 3</td>\n",
              "      <td>8</td>\n",
              "      <td>2</td>\n",
              "      <td>2019</td>\n",
              "      <td>24</td>\n",
              "      <td>32</td>\n",
              "      <td>Married</td>\n",
              "      <td>5</td>\n",
              "      <td>SDE</td>\n",
              "      <td>Enterprise</td>\n",
              "      <td>Engineering</td>\n",
              "      <td>10</td>\n",
              "      <td>DegreeBranch</td>\n",
              "      <td>86.34</td>\n",
              "    </tr>\n",
              "  </tbody>\n",
              "</table>\n",
              "</div>"
            ],
            "text/plain": [
              "   EmpID  EmpName LanguageOfCommunication  Age  Gender JobProfileIDApplyingFor HighestDegree             DegreeBranch GraduatingInstitute  LatestDegreeCGPA  YearsOfExperince  GraduationYear  CurrentCTC  ExpectedCTC MartialStatus  EmpScore CurrentDesignation CurrentCompanyType DepartmentInCompany  TotalLeavesTaken BiasInfluentialFactor  FitmentPercent\n",
              "0  11041     John                 English   35    Male                 JR85289        B.Tech               Electrical              Tier 1                 7                12            2009          21           26       Married         5                SSE         Enterprise              Design                20      YearsOfExperince           95.40\n",
              "1  15079  William                 English   26    Male                 JR87525        B.Tech  Artificial Intelligence              Tier 3                 7                 3            2018          15           19       Married         5                 BA           MidSized         Engineering                 6                   NaN           67.09\n",
              "2  18638    James                 English   36  Female                 JR87525           PhD         Computer Science              Tier 1                 6                 6            2015          15           24        Single         5                SDE           MidSized         Engineering                19                Gender           91.26\n",
              "3   3941  Charles                 English   29  Female                 JR87525           BCA   Information Technology              Tier 2                 5                 6            2015          16           24       Married         5                SDE            Startup             Product                16                Gender           72.29\n",
              "4   5936   George                 English   25    Male                 JR70175   Dual M.Tech         Computer Science              Tier 3                 8                 2            2019          24           32       Married         5                SDE         Enterprise         Engineering                10          DegreeBranch           86.34"
            ]
          },
          "metadata": {
            "tags": []
          },
          "execution_count": 4
        }
      ]
    },
    {
      "cell_type": "code",
      "metadata": {
        "colab": {
          "base_uri": "https://localhost:8080/",
          "height": 313
        },
        "id": "E7AeQdv9oWSG",
        "outputId": "1e4ac058-ab7e-4b75-bfeb-7d7340bb383f"
      },
      "source": [
        "test.head()"
      ],
      "execution_count": 5,
      "outputs": [
        {
          "output_type": "execute_result",
          "data": {
            "text/html": [
              "<div>\n",
              "<style scoped>\n",
              "    .dataframe tbody tr th:only-of-type {\n",
              "        vertical-align: middle;\n",
              "    }\n",
              "\n",
              "    .dataframe tbody tr th {\n",
              "        vertical-align: top;\n",
              "    }\n",
              "\n",
              "    .dataframe thead th {\n",
              "        text-align: right;\n",
              "    }\n",
              "</style>\n",
              "<table border=\"1\" class=\"dataframe\">\n",
              "  <thead>\n",
              "    <tr style=\"text-align: right;\">\n",
              "      <th></th>\n",
              "      <th>EmpID</th>\n",
              "      <th>EmpName</th>\n",
              "      <th>LanguageOfCommunication</th>\n",
              "      <th>Age</th>\n",
              "      <th>Gender</th>\n",
              "      <th>JobProfileIDApplyingFor</th>\n",
              "      <th>HighestDegree</th>\n",
              "      <th>DegreeBranch</th>\n",
              "      <th>GraduatingInstitute</th>\n",
              "      <th>LatestDegreeCGPA</th>\n",
              "      <th>YearsOfExperince</th>\n",
              "      <th>GraduationYear</th>\n",
              "      <th>CurrentCTC</th>\n",
              "      <th>ExpectedCTC</th>\n",
              "      <th>MartialStatus</th>\n",
              "      <th>EmpScore</th>\n",
              "      <th>CurrentDesignation</th>\n",
              "      <th>CurrentCompanyType</th>\n",
              "      <th>DepartmentInCompany</th>\n",
              "      <th>TotalLeavesTaken</th>\n",
              "    </tr>\n",
              "  </thead>\n",
              "  <tbody>\n",
              "    <tr>\n",
              "      <th>0</th>\n",
              "      <td>5664</td>\n",
              "      <td>Theo</td>\n",
              "      <td>Native</td>\n",
              "      <td>35</td>\n",
              "      <td>Male</td>\n",
              "      <td>JR85289</td>\n",
              "      <td>PhD</td>\n",
              "      <td>Information Technology</td>\n",
              "      <td>Tier 2</td>\n",
              "      <td>5</td>\n",
              "      <td>5</td>\n",
              "      <td>2016</td>\n",
              "      <td>27</td>\n",
              "      <td>34</td>\n",
              "      <td>Single</td>\n",
              "      <td>4</td>\n",
              "      <td>SDE</td>\n",
              "      <td>Enterprise</td>\n",
              "      <td>Finance</td>\n",
              "      <td>18</td>\n",
              "    </tr>\n",
              "    <tr>\n",
              "      <th>1</th>\n",
              "      <td>23568</td>\n",
              "      <td>Vernie</td>\n",
              "      <td>English</td>\n",
              "      <td>35</td>\n",
              "      <td>Male</td>\n",
              "      <td>JR85289</td>\n",
              "      <td>B.Tech</td>\n",
              "      <td>Information Technology</td>\n",
              "      <td>Tier 3</td>\n",
              "      <td>9</td>\n",
              "      <td>12</td>\n",
              "      <td>2009</td>\n",
              "      <td>29</td>\n",
              "      <td>33</td>\n",
              "      <td>Married</td>\n",
              "      <td>4</td>\n",
              "      <td>EM</td>\n",
              "      <td>Enterprise</td>\n",
              "      <td>Engineering</td>\n",
              "      <td>8</td>\n",
              "    </tr>\n",
              "    <tr>\n",
              "      <th>2</th>\n",
              "      <td>21490</td>\n",
              "      <td>Wendell</td>\n",
              "      <td>English</td>\n",
              "      <td>28</td>\n",
              "      <td>Male</td>\n",
              "      <td>JR87525</td>\n",
              "      <td>M.Tech</td>\n",
              "      <td>Artificial Intelligence</td>\n",
              "      <td>Tier 2</td>\n",
              "      <td>9</td>\n",
              "      <td>2</td>\n",
              "      <td>2019</td>\n",
              "      <td>18</td>\n",
              "      <td>25</td>\n",
              "      <td>Married</td>\n",
              "      <td>3</td>\n",
              "      <td>SDE</td>\n",
              "      <td>Startup</td>\n",
              "      <td>Engineering</td>\n",
              "      <td>18</td>\n",
              "    </tr>\n",
              "    <tr>\n",
              "      <th>3</th>\n",
              "      <td>8363</td>\n",
              "      <td>West</td>\n",
              "      <td>Hindi</td>\n",
              "      <td>37</td>\n",
              "      <td>Male</td>\n",
              "      <td>JR87525</td>\n",
              "      <td>MS</td>\n",
              "      <td>Computer Science</td>\n",
              "      <td>Tier 2</td>\n",
              "      <td>8</td>\n",
              "      <td>11</td>\n",
              "      <td>2010</td>\n",
              "      <td>7</td>\n",
              "      <td>12</td>\n",
              "      <td>Single</td>\n",
              "      <td>5</td>\n",
              "      <td>DS</td>\n",
              "      <td>Enterprise</td>\n",
              "      <td>Product</td>\n",
              "      <td>17</td>\n",
              "    </tr>\n",
              "    <tr>\n",
              "      <th>4</th>\n",
              "      <td>6165</td>\n",
              "      <td>Alford</td>\n",
              "      <td>Hindi</td>\n",
              "      <td>36</td>\n",
              "      <td>Female</td>\n",
              "      <td>JR85289</td>\n",
              "      <td>PhD</td>\n",
              "      <td>Artificial Intelligence</td>\n",
              "      <td>Tier 2</td>\n",
              "      <td>7</td>\n",
              "      <td>6</td>\n",
              "      <td>2015</td>\n",
              "      <td>22</td>\n",
              "      <td>32</td>\n",
              "      <td>Married</td>\n",
              "      <td>4</td>\n",
              "      <td>SDE</td>\n",
              "      <td>Startup</td>\n",
              "      <td>Engineering</td>\n",
              "      <td>9</td>\n",
              "    </tr>\n",
              "  </tbody>\n",
              "</table>\n",
              "</div>"
            ],
            "text/plain": [
              "   EmpID  EmpName LanguageOfCommunication  Age  Gender JobProfileIDApplyingFor HighestDegree             DegreeBranch GraduatingInstitute  LatestDegreeCGPA  YearsOfExperince  GraduationYear  CurrentCTC  ExpectedCTC MartialStatus  EmpScore CurrentDesignation CurrentCompanyType DepartmentInCompany  TotalLeavesTaken\n",
              "0   5664     Theo                  Native   35    Male                 JR85289           PhD   Information Technology              Tier 2                 5                 5            2016          27           34        Single         4                SDE         Enterprise             Finance                18\n",
              "1  23568   Vernie                 English   35    Male                 JR85289        B.Tech   Information Technology              Tier 3                 9                12            2009          29           33       Married         4                 EM         Enterprise         Engineering                 8\n",
              "2  21490  Wendell                 English   28    Male                 JR87525        M.Tech  Artificial Intelligence              Tier 2                 9                 2            2019          18           25       Married         3                SDE            Startup         Engineering                18\n",
              "3   8363     West                   Hindi   37    Male                 JR87525            MS         Computer Science              Tier 2                 8                11            2010           7           12        Single         5                 DS         Enterprise             Product                17\n",
              "4   6165   Alford                   Hindi   36  Female                 JR85289           PhD  Artificial Intelligence              Tier 2                 7                 6            2015          22           32       Married         4                SDE            Startup         Engineering                 9"
            ]
          },
          "metadata": {
            "tags": []
          },
          "execution_count": 5
        }
      ]
    },
    {
      "cell_type": "code",
      "metadata": {
        "colab": {
          "base_uri": "https://localhost:8080/"
        },
        "id": "v0FhYzPZoYC6",
        "outputId": "8e9c15e0-aa2a-409d-9a98-6a1b705930ef"
      },
      "source": [
        "train.info()"
      ],
      "execution_count": 6,
      "outputs": [
        {
          "output_type": "stream",
          "text": [
            "<class 'pandas.core.frame.DataFrame'>\n",
            "RangeIndex: 13645 entries, 0 to 13644\n",
            "Data columns (total 22 columns):\n",
            " #   Column                   Non-Null Count  Dtype  \n",
            "---  ------                   --------------  -----  \n",
            " 0   EmpID                    13645 non-null  int64  \n",
            " 1   EmpName                  13645 non-null  object \n",
            " 2   LanguageOfCommunication  13645 non-null  object \n",
            " 3   Age                      13645 non-null  int64  \n",
            " 4   Gender                   13645 non-null  object \n",
            " 5   JobProfileIDApplyingFor  13645 non-null  object \n",
            " 6   HighestDegree            13645 non-null  object \n",
            " 7   DegreeBranch             13645 non-null  object \n",
            " 8   GraduatingInstitute      13645 non-null  object \n",
            " 9   LatestDegreeCGPA         13645 non-null  int64  \n",
            " 10  YearsOfExperince         13645 non-null  int64  \n",
            " 11  GraduationYear           13645 non-null  int64  \n",
            " 12  CurrentCTC               13645 non-null  int64  \n",
            " 13  ExpectedCTC              13645 non-null  int64  \n",
            " 14  MartialStatus            13645 non-null  object \n",
            " 15  EmpScore                 13645 non-null  int64  \n",
            " 16  CurrentDesignation       13645 non-null  object \n",
            " 17  CurrentCompanyType       13645 non-null  object \n",
            " 18  DepartmentInCompany      13645 non-null  object \n",
            " 19  TotalLeavesTaken         13645 non-null  int64  \n",
            " 20  BiasInfluentialFactor    10309 non-null  object \n",
            " 21  FitmentPercent           13645 non-null  float64\n",
            "dtypes: float64(1), int64(9), object(12)\n",
            "memory usage: 2.3+ MB\n"
          ],
          "name": "stdout"
        }
      ]
    },
    {
      "cell_type": "code",
      "metadata": {
        "colab": {
          "base_uri": "https://localhost:8080/"
        },
        "id": "1ls4Qn92rmxF",
        "outputId": "9d622dab-51da-4657-f1ea-2ff71dd8bc5c"
      },
      "source": [
        "train.BiasInfluentialFactor.value_counts()"
      ],
      "execution_count": 7,
      "outputs": [
        {
          "output_type": "execute_result",
          "data": {
            "text/plain": [
              "DegreeBranch          2858\n",
              "Gender                2605\n",
              "YearsOfExperince      1561\n",
              "CurrentCompanyType    1174\n",
              "EmpScore               659\n",
              "HighestDegree          582\n",
              "Ethinicity             328\n",
              "MartialStatus          280\n",
              "LatestDegreeCGPA       262\n",
              "Name: BiasInfluentialFactor, dtype: int64"
            ]
          },
          "metadata": {
            "tags": []
          },
          "execution_count": 7
        }
      ]
    },
    {
      "cell_type": "code",
      "metadata": {
        "colab": {
          "base_uri": "https://localhost:8080/"
        },
        "id": "Xeooow8C3qbC",
        "outputId": "7eea6d34-df65-4e36-fd08-c55cde7ef84f"
      },
      "source": [
        "test.info()"
      ],
      "execution_count": 8,
      "outputs": [
        {
          "output_type": "stream",
          "text": [
            "<class 'pandas.core.frame.DataFrame'>\n",
            "RangeIndex: 8745 entries, 0 to 8744\n",
            "Data columns (total 20 columns):\n",
            " #   Column                   Non-Null Count  Dtype \n",
            "---  ------                   --------------  ----- \n",
            " 0   EmpID                    8745 non-null   int64 \n",
            " 1   EmpName                  8745 non-null   object\n",
            " 2   LanguageOfCommunication  8745 non-null   object\n",
            " 3   Age                      8745 non-null   int64 \n",
            " 4   Gender                   8745 non-null   object\n",
            " 5   JobProfileIDApplyingFor  8745 non-null   object\n",
            " 6   HighestDegree            8745 non-null   object\n",
            " 7   DegreeBranch             8745 non-null   object\n",
            " 8   GraduatingInstitute      8745 non-null   object\n",
            " 9   LatestDegreeCGPA         8745 non-null   int64 \n",
            " 10  YearsOfExperince         8745 non-null   int64 \n",
            " 11  GraduationYear           8745 non-null   int64 \n",
            " 12  CurrentCTC               8745 non-null   int64 \n",
            " 13  ExpectedCTC              8745 non-null   int64 \n",
            " 14  MartialStatus            8745 non-null   object\n",
            " 15  EmpScore                 8745 non-null   int64 \n",
            " 16  CurrentDesignation       8745 non-null   object\n",
            " 17  CurrentCompanyType       8745 non-null   object\n",
            " 18  DepartmentInCompany      8745 non-null   object\n",
            " 19  TotalLeavesTaken         8745 non-null   int64 \n",
            "dtypes: int64(9), object(11)\n",
            "memory usage: 1.3+ MB\n"
          ],
          "name": "stdout"
        }
      ]
    },
    {
      "cell_type": "markdown",
      "metadata": {
        "id": "Nhn5AQ9LzA0W"
      },
      "source": [
        "### encoding categorical variables"
      ]
    },
    {
      "cell_type": "code",
      "metadata": {
        "id": "Hli7BmlN3kxF"
      },
      "source": [
        "objList = [ 'LanguageOfCommunication',  'Gender',  'HighestDegree', 'DegreeBranch', 'GraduatingInstitute',  'MartialStatus', 'CurrentDesignation', 'CurrentCompanyType','DepartmentInCompany']\n",
        "lbe = LabelEncoder()\n",
        "for feat in objList:\n",
        "    lbe.fit(train[feat].astype('str').values)\n",
        "    diz_map_train = dict(zip(lbe.classes_, lbe.transform(lbe.classes_)+1))\n",
        "\n",
        "    for i in set(test[feat].astype('str')).difference(train[feat].astype('str')):\n",
        "        diz_map_train[i] = 0\n",
        "\n",
        "    train[feat] = [diz_map_train[i] for i in train[feat].astype('str').values]\n",
        "    test[feat] = [diz_map_train[i] for i in test[feat].astype('str').values]"
      ],
      "execution_count": 9,
      "outputs": []
    },
    {
      "cell_type": "code",
      "metadata": {
        "id": "4DrIDmzkQ-uH"
      },
      "source": [
        "# dropping columns not required for analysis\n",
        "df_train=train.drop(['EmpID','EmpName','JobProfileIDApplyingFor'],axis=1)\n",
        "df_test=test.drop(['EmpID','EmpName','JobProfileIDApplyingFor'],axis=1)"
      ],
      "execution_count": 10,
      "outputs": []
    },
    {
      "cell_type": "code",
      "metadata": {
        "colab": {
          "base_uri": "https://localhost:8080/"
        },
        "id": "ue0K7oYKq5hM",
        "outputId": "dd67ddff-565c-467f-ff3b-ef6047c6c260"
      },
      "source": [
        "df_test.info()"
      ],
      "execution_count": 11,
      "outputs": [
        {
          "output_type": "stream",
          "text": [
            "<class 'pandas.core.frame.DataFrame'>\n",
            "RangeIndex: 8745 entries, 0 to 8744\n",
            "Data columns (total 17 columns):\n",
            " #   Column                   Non-Null Count  Dtype\n",
            "---  ------                   --------------  -----\n",
            " 0   LanguageOfCommunication  8745 non-null   int64\n",
            " 1   Age                      8745 non-null   int64\n",
            " 2   Gender                   8745 non-null   int64\n",
            " 3   HighestDegree            8745 non-null   int64\n",
            " 4   DegreeBranch             8745 non-null   int64\n",
            " 5   GraduatingInstitute      8745 non-null   int64\n",
            " 6   LatestDegreeCGPA         8745 non-null   int64\n",
            " 7   YearsOfExperince         8745 non-null   int64\n",
            " 8   GraduationYear           8745 non-null   int64\n",
            " 9   CurrentCTC               8745 non-null   int64\n",
            " 10  ExpectedCTC              8745 non-null   int64\n",
            " 11  MartialStatus            8745 non-null   int64\n",
            " 12  EmpScore                 8745 non-null   int64\n",
            " 13  CurrentDesignation       8745 non-null   int64\n",
            " 14  CurrentCompanyType       8745 non-null   int64\n",
            " 15  DepartmentInCompany      8745 non-null   int64\n",
            " 16  TotalLeavesTaken         8745 non-null   int64\n",
            "dtypes: int64(17)\n",
            "memory usage: 1.1 MB\n"
          ],
          "name": "stdout"
        }
      ]
    },
    {
      "cell_type": "markdown",
      "metadata": {
        "id": "xxdyrLPUzSi8"
      },
      "source": [
        "### scaling input features"
      ]
    },
    {
      "cell_type": "code",
      "metadata": {
        "id": "XkVJOn0IqjmL"
      },
      "source": [
        "\n",
        "cl=[df_test.columns]\n",
        "for i in cl:\n",
        "  norm = StandardScaler().fit(df_train[i])\n",
        "\n",
        "  # transform training data\n",
        "  df_train[i] = norm.transform(df_train[i])\n",
        "\n",
        "  # transform testing dataabs\n",
        "  df_test[i] = norm.transform(df_test[i])\n",
        "X=df_train[df_test.columns]\n",
        "y=df_train.FitmentPercent"
      ],
      "execution_count": 12,
      "outputs": []
    },
    {
      "cell_type": "code",
      "metadata": {
        "id": "Hlv47qwc3NxX"
      },
      "source": [
        "# Creating Train-Test Split for validation\n",
        "from sklearn.model_selection import train_test_split\n",
        "X_train, X_test, y_train, y_test = train_test_split(X, y, test_size = 0.2, random_state = 0)"
      ],
      "execution_count": 13,
      "outputs": []
    },
    {
      "cell_type": "markdown",
      "metadata": {
        "id": "Yxsvwk6nzee6"
      },
      "source": [
        "### Initial model with Linear Regression"
      ]
    },
    {
      "cell_type": "code",
      "metadata": {
        "colab": {
          "base_uri": "https://localhost:8080/"
        },
        "id": "6Mytbx2x7Fdy",
        "outputId": "31a1d0cc-c315-4a51-d28d-1e14fed77e8b"
      },
      "source": [
        "from sklearn.linear_model import LinearRegression\n",
        "regressor = LinearRegression()\n",
        "regressor.fit(X_train, y_train)\n",
        "y_pred = regressor.predict(X_train)\n",
        "from sklearn.metrics import mean_squared_error,r2_score\n",
        "mse = mean_squared_error(y_train, y_pred)**(0.5)\n",
        "r2=r2_score(y_train, y_pred)\n",
        "print(r2,mse)\n",
        "y_pred = regressor.predict(X_test)\n",
        "from sklearn.metrics import mean_squared_error,r2_score\n",
        "mse = mean_squared_error(y_test, y_pred)**(0.5)\n",
        "r2=r2_score(y_test, y_pred)\n",
        "print(r2,mse)"
      ],
      "execution_count": 14,
      "outputs": [
        {
          "output_type": "stream",
          "text": [
            "0.2735277645015861 12.724325231886352\n",
            "0.26325784447739586 12.662222550601506\n"
          ],
          "name": "stdout"
        }
      ]
    },
    {
      "cell_type": "markdown",
      "metadata": {
        "id": "3cb2JkAmz4K9"
      },
      "source": [
        "### initial Random forest model\n",
        "### Both are providing same results , these results are without any feature engineering or hyper parameter tuning\n"
      ]
    },
    {
      "cell_type": "code",
      "metadata": {
        "colab": {
          "base_uri": "https://localhost:8080/"
        },
        "id": "KVbzcISh3dGs",
        "outputId": "7eab68f4-e678-48de-e064-dc393caeb83b"
      },
      "source": [
        "from sklearn.ensemble import RandomForestRegressor\n",
        "model = RandomForestRegressor(max_depth=6, random_state=0, n_estimators=10)\n",
        "model.fit(X_train, y_train)\n",
        "y_pred = model.predict(X_train)\n",
        "from sklearn.metrics import mean_squared_error,r2_score\n",
        "mse = mean_squared_error(y_train, y_pred)**(0.5)\n",
        "r2=r2_score(y_train, y_pred)\n",
        "print(r2,mse)\n",
        "y_pred = model.predict(X_test)\n",
        "from sklearn.metrics import mean_squared_error,r2_score\n",
        "mse = mean_squared_error(y_test, y_pred)**(0.5)\n",
        "r2=r2_score(y_test, y_pred)\n",
        "print(r2,mse)"
      ],
      "execution_count": 15,
      "outputs": [
        {
          "output_type": "stream",
          "text": [
            "0.6613134531206346 8.688088250669358\n",
            "0.6342476503662704 8.921661563378022\n"
          ],
          "name": "stdout"
        }
      ]
    },
    {
      "cell_type": "markdown",
      "metadata": {
        "id": "dc529c7P1hRQ"
      },
      "source": [
        "## Tree Interpretor to find influencing factor"
      ]
    },
    {
      "cell_type": "code",
      "metadata": {
        "colab": {
          "base_uri": "https://localhost:8080/"
        },
        "id": "AJsb4tXm7FEQ",
        "outputId": "0a05bb31-148d-44b5-eeca-d065ed3642a8"
      },
      "source": [
        "from sklearn.model_selection import GridSearchCV\n",
        "param_grid = {\"max_depth\": [5, 20, 15, 20],\"max_features\": [5, 10,15,18],\"min_samples_leaf\": [3, 4, 5],\"min_samples_split\": [8, 10, 12],\"n_estimators\": [20, 100, 150]}\n",
        "\n",
        "rf = RandomForestRegressor()\n",
        "grid_search = GridSearchCV(estimator = rf, param_grid = param_grid, \n",
        "\n",
        "                          cv = 3, n_jobs = -1, verbose = 2)\n",
        "grid_search.fit(X_train, y_train)\n",
        "\n",
        "grid_search.best_params_"
      ],
      "execution_count": 39,
      "outputs": [
        {
          "output_type": "stream",
          "text": [
            "Fitting 3 folds for each of 432 candidates, totalling 1296 fits\n"
          ],
          "name": "stdout"
        },
        {
          "output_type": "stream",
          "text": [
            "[Parallel(n_jobs=-1)]: Using backend LokyBackend with 2 concurrent workers.\n",
            "[Parallel(n_jobs=-1)]: Done  37 tasks      | elapsed:   12.1s\n",
            "[Parallel(n_jobs=-1)]: Done 158 tasks      | elapsed:  1.0min\n",
            "[Parallel(n_jobs=-1)]: Done 393 tasks      | elapsed:  2.7min\n",
            "[Parallel(n_jobs=-1)]: Done 722 tasks      | elapsed:  7.2min\n",
            "[Parallel(n_jobs=-1)]: Done 1133 tasks      | elapsed: 13.1min\n",
            "[Parallel(n_jobs=-1)]: Done 1296 out of 1296 | elapsed: 15.2min finished\n"
          ],
          "name": "stderr"
        },
        {
          "output_type": "execute_result",
          "data": {
            "text/plain": [
              "{'max_depth': 5,\n",
              " 'max_features': 15,\n",
              " 'min_samples_leaf': 4,\n",
              " 'min_samples_split': 8,\n",
              " 'n_estimators': 100}"
            ]
          },
          "metadata": {
            "tags": []
          },
          "execution_count": 39
        }
      ]
    },
    {
      "cell_type": "code",
      "metadata": {
        "colab": {
          "base_uri": "https://localhost:8080/"
        },
        "id": "KOOamY4r2idz",
        "outputId": "43e207e3-42dc-4581-f408-e01295fa76ed"
      },
      "source": [
        "from treeinterpreter import treeinterpreter as ti\n",
        "# fit a scikit-learn's regressor model\n",
        "rf = RandomForestRegressor(bootstrap=True, ccp_alpha=0.0, criterion='mse',\n",
        "                      max_depth=5, max_features=15, max_leaf_nodes=None,\n",
        "                      max_samples=None, min_impurity_decrease=0.0,\n",
        "                      min_impurity_split=None, min_samples_leaf=4,\n",
        "                      min_samples_split=8, min_weight_fraction_leaf=0.0,\n",
        "                      n_estimators=100, n_jobs=None, oob_score=False,\n",
        "                      random_state=42, verbose=0, warm_start=False)\n",
        "rf.fit(X_train, y_train)\n",
        "\n",
        "prediction, bias, contributions = ti.predict(rf, X_train)\n",
        "mse = mean_squared_error(y_train, prediction)**(0.5)\n",
        "r2=r2_score(y_train, prediction)\n",
        "print(r2,mse)\n",
        "prediction, bias, contributions = ti.predict(rf, X_test)\n",
        "mse = mean_squared_error(y_test, prediction)**(0.5)\n",
        "r2=r2_score(y_test, prediction)\n",
        "print(r2,mse)"
      ],
      "execution_count": 40,
      "outputs": [
        {
          "output_type": "stream",
          "text": [
            "0.6524950878975123 8.800467116978169\n",
            "0.6356660325261525 8.904345724152119\n"
          ],
          "name": "stdout"
        }
      ]
    },
    {
      "cell_type": "code",
      "metadata": {
        "colab": {
          "base_uri": "https://localhost:8080/",
          "height": 17
        },
        "id": "8f0MMFio2t7_",
        "outputId": "90194bc9-d750-453a-b9b4-92418fbe3d8a"
      },
      "source": [
        "prediction, bias, contributions = ti.predict(rf, df_test)\n",
        "influence_list=[]\n",
        "cols=X_train.columns\n",
        "for i in range(len(contributions)):\n",
        "  influence_list.append(cols[np.argmax(contributions[i], axis=0)])\n",
        "influence=pd.DataFrame(influence_list)\n",
        "pred=pd.DataFrame(prediction)\n",
        "empId=pd.DataFrame(test.EmpID)\n",
        "sub=pd.concat([empId,influence,pred],axis=1)\n",
        "sub.columns=['EmpID','BiasInfluentialFactor','FitmentPercent']\n",
        "sub.to_csv('ams_Submission_3.csv',index=False)\n",
        "from google.colab import files\n",
        "files.download('ams_Submission_3.csv')"
      ],
      "execution_count": 17,
      "outputs": [
        {
          "output_type": "display_data",
          "data": {
            "application/javascript": [
              "\n",
              "    async function download(id, filename, size) {\n",
              "      if (!google.colab.kernel.accessAllowed) {\n",
              "        return;\n",
              "      }\n",
              "      const div = document.createElement('div');\n",
              "      const label = document.createElement('label');\n",
              "      label.textContent = `Downloading \"${filename}\": `;\n",
              "      div.appendChild(label);\n",
              "      const progress = document.createElement('progress');\n",
              "      progress.max = size;\n",
              "      div.appendChild(progress);\n",
              "      document.body.appendChild(div);\n",
              "\n",
              "      const buffers = [];\n",
              "      let downloaded = 0;\n",
              "\n",
              "      const channel = await google.colab.kernel.comms.open(id);\n",
              "      // Send a message to notify the kernel that we're ready.\n",
              "      channel.send({})\n",
              "\n",
              "      for await (const message of channel.messages) {\n",
              "        // Send a message to notify the kernel that we're ready.\n",
              "        channel.send({})\n",
              "        if (message.buffers) {\n",
              "          for (const buffer of message.buffers) {\n",
              "            buffers.push(buffer);\n",
              "            downloaded += buffer.byteLength;\n",
              "            progress.value = downloaded;\n",
              "          }\n",
              "        }\n",
              "      }\n",
              "      const blob = new Blob(buffers, {type: 'application/binary'});\n",
              "      const a = document.createElement('a');\n",
              "      a.href = window.URL.createObjectURL(blob);\n",
              "      a.download = filename;\n",
              "      div.appendChild(a);\n",
              "      a.click();\n",
              "      div.remove();\n",
              "    }\n",
              "  "
            ],
            "text/plain": [
              "<IPython.core.display.Javascript object>"
            ]
          },
          "metadata": {
            "tags": []
          }
        },
        {
          "output_type": "display_data",
          "data": {
            "application/javascript": [
              "download(\"download_f15e9518-e70b-46e2-ba1c-649910f68185\", \"ams_Submission_3.csv\", 338818)"
            ],
            "text/plain": [
              "<IPython.core.display.Javascript object>"
            ]
          },
          "metadata": {
            "tags": []
          }
        }
      ]
    },
    {
      "cell_type": "markdown",
      "metadata": {
        "id": "xivNdHY9QtkU"
      },
      "source": [
        "# r2 is around 65 percent it requires better feature engineering to further improve but the score is close to 100 percent in the submission due to lack of time submitting this solution as is."
      ]
    },
    {
      "cell_type": "code",
      "metadata": {
        "id": "XZzWzVz030xO"
      },
      "source": [
        "# explainer = lime.lime_tabular.LimeTabularExplainer(X_train, feature_names = X_test.columns,\n",
        "#                                                    class_names=['FitmentPercent'],verbose=True, mode='regression')"
      ],
      "execution_count": 18,
      "outputs": []
    },
    {
      "cell_type": "code",
      "metadata": {
        "id": "fhHPS1NO4HMK"
      },
      "source": [
        "# j = 392\n",
        "# exp = explainer.explain_instance(X_test.values[j], model.predict, num_features=25)\n",
        "# exp.show_in_notebook()"
      ],
      "execution_count": 19,
      "outputs": []
    },
    {
      "cell_type": "code",
      "metadata": {
        "id": "pDDiBxJPKfXV"
      },
      "source": [
        "# exp.local_exp[1]"
      ],
      "execution_count": 20,
      "outputs": []
    },
    {
      "cell_type": "code",
      "metadata": {
        "id": "eXybWJzHwFf3"
      },
      "source": [
        ""
      ],
      "execution_count": 20,
      "outputs": []
    }
  ]
}